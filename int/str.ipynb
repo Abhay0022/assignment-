{
  "nbformat": 4,
  "nbformat_minor": 0,
  "metadata": {
    "colab": {
      "provenance": [],
      "authorship_tag": "ABX9TyMitbdJKufr+WTzF3RXvt2z",
      "include_colab_link": true
    },
    "kernelspec": {
      "name": "python3",
      "display_name": "Python 3"
    },
    "language_info": {
      "name": "python"
    }
  },
  "cells": [
    {
      "cell_type": "markdown",
      "metadata": {
        "id": "view-in-github",
        "colab_type": "text"
      },
      "source": [
        "<a href=\"https://colab.research.google.com/github/Abhay0022/assignment-/blob/main/int/str.ipynb\" target=\"_parent\"><img src=\"https://colab.research.google.com/assets/colab-badge.svg\" alt=\"Open In Colab\"/></a>"
      ]
    },
    {
      "cell_type": "code",
      "execution_count": 1,
      "metadata": {
        "id": "lyw5PMsGcOa8"
      },
      "outputs": [],
      "source": [
        "l=[1,2,3,4,4,\"sudh\",\"kumar\",\"pwskills\",10,45,34.6,\"abcd\"]"
      ]
    },
    {
      "cell_type": "code",
      "source": [
        "l1_num=[]\n",
        "l2_str=[]\n",
        "for i in l :\n",
        "  if type(i)==int or type(i)==float : \n",
        "    l1_num.append(i)\n",
        "  else:\n",
        "    l2_str.append(i)"
      ],
      "metadata": {
        "id": "cJgvHexBc_2W"
      },
      "execution_count": 4,
      "outputs": []
    },
    {
      "cell_type": "code",
      "source": [
        "l1_num"
      ],
      "metadata": {
        "colab": {
          "base_uri": "https://localhost:8080/"
        },
        "id": "VeTR5ImLeQkz",
        "outputId": "b773d22e-a611-40c3-bf4f-c5784035ce2d"
      },
      "execution_count": 5,
      "outputs": [
        {
          "output_type": "execute_result",
          "data": {
            "text/plain": [
              "[1, 2, 3, 4, 4, 10, 45, 34.6]"
            ]
          },
          "metadata": {},
          "execution_count": 5
        }
      ]
    },
    {
      "cell_type": "code",
      "source": [
        "l2_str"
      ],
      "metadata": {
        "colab": {
          "base_uri": "https://localhost:8080/"
        },
        "id": "PICL_ZlKeg4A",
        "outputId": "647f6385-f8c4-420a-9666-d4ae0d3a19ad"
      },
      "execution_count": 6,
      "outputs": [
        {
          "output_type": "execute_result",
          "data": {
            "text/plain": [
              "['sudh', 'kumar', 'pwskills', 'abcd']"
            ]
          },
          "metadata": {},
          "execution_count": 6
        }
      ]
    },
    {
      "cell_type": "code",
      "source": [],
      "metadata": {
        "id": "ax-Ac1RcejtN"
      },
      "execution_count": null,
      "outputs": []
    }
  ]
}